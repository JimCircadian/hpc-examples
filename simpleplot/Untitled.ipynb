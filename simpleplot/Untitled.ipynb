{
 "cells": [
  {
   "cell_type": "code",
   "execution_count": 2,
   "id": "254b2c04",
   "metadata": {},
   "outputs": [],
   "source": [
    "import matplotlib.pyplot as plt\n",
    "import numpy as np"
   ]
  },
  {
   "cell_type": "code",
   "execution_count": 67,
   "id": "6cf2b514",
   "metadata": {},
   "outputs": [],
   "source": [
    "a = np.linspace(0, 2 * np.pi, 100)\n",
    "r = 1\n",
    "x = np.sin(a) * r\n",
    "y = np.cos(a) * r\n",
    "z = np.tan(a) * r"
   ]
  },
  {
   "cell_type": "code",
   "execution_count": 72,
   "id": "ca838ca7",
   "metadata": {},
   "outputs": [
    {
     "data": {
      "image/png": "[encoded data removed]",
      "text/plain": [
       "<Figure size 432x288 with 1 Axes>"
      ]
     },
     "metadata": {
      "needs_background": "light"
     },
     "output_type": "display_data"
    }
   ],
   "source": [
    "fig, ax = plt.subplots(1)\n",
    "ax.plot(x, y, x, z / 360)\n",
    "ax.set_aspect(1)\n",
    "plt.show()\n"
   ]
  },
  {
   "cell_type": "code",
   "execution_count": 69,
   "id": "46589f13",
   "metadata": {},
   "outputs": [
    {
     "data": {
      "text/plain": [
       "array([ 0.00000000e+00,  6.35518701e-02,  1.27619174e-01,  1.92734202e-01,\n",
       "        2.59464150e-01,  3.28431672e-01,  4.00339609e-01,  4.76002082e-01,\n",
       "        5.56385058e-01,  6.42660977e-01,  7.36284401e-01,  8.39099631e-01,\n",
       "        9.53498074e-01,  1.08265515e+00,  1.23089871e+00,  1.40430351e+00,\n",
       "        1.61169269e+00,  1.86641404e+00,  2.18969456e+00,  2.61749489e+00,\n",
       "        3.21602127e+00,  4.12205614e+00,  5.67128182e+00,  8.96656988e+00,\n",
       "        2.09925835e+01, -6.30200685e+01, -1.25786160e+01, -6.95515277e+00,\n",
       "       -4.77915322e+00, -3.61702392e+00, -2.88931025e+00, -2.38738432e+00,\n",
       "       -2.01770128e+00, -1.73205081e+00, -1.50305055e+00, -1.31398466e+00,\n",
       "       -1.15406152e+00, -1.01599385e+00, -8.94674368e-01, -7.86408692e-01,\n",
       "       -6.88449662e-01, -5.98703173e-01, -5.15535831e-01, -4.37645272e-01,\n",
       "       -3.63970234e-01, -2.93626493e-01, -2.25859960e-01, -1.60011316e-01,\n",
       "       -9.54884223e-02, -3.17439152e-02,  3.17439152e-02,  9.54884223e-02,\n",
       "        1.60011316e-01,  2.25859960e-01,  2.93626493e-01,  3.63970234e-01,\n",
       "        4.37645272e-01,  5.15535831e-01,  5.98703173e-01,  6.88449662e-01,\n",
       "        7.86408692e-01,  8.94674368e-01,  1.01599385e+00,  1.15406152e+00,\n",
       "        1.31398466e+00,  1.50305055e+00,  1.73205081e+00,  2.01770128e+00,\n",
       "        2.38738432e+00,  2.88931025e+00,  3.61702392e+00,  4.77915322e+00,\n",
       "        6.95515277e+00,  1.25786160e+01,  6.30200685e+01, -2.09925835e+01,\n",
       "       -8.96656988e+00, -5.67128182e+00, -4.12205614e+00, -3.21602127e+00,\n",
       "       -2.61749489e+00, -2.18969456e+00, -1.86641404e+00, -1.61169269e+00,\n",
       "       -1.40430351e+00, -1.23089871e+00, -1.08265515e+00, -9.53498074e-01,\n",
       "       -8.39099631e-01, -7.36284401e-01, -6.42660977e-01, -5.56385058e-01,\n",
       "       -4.76002082e-01, -4.00339609e-01, -3.28431672e-01, -2.59464150e-01,\n",
       "       -1.92734202e-01, -1.27619174e-01, -6.35518701e-02, -2.44929360e-16])"
      ]
     },
     "execution_count": 69,
     "metadata": {},
     "output_type": "execute_result"
    }
   ],
   "source": [
    "z"
   ]
  },
  {
   "cell_type": "code",
   "execution_count": null,
   "id": "d4bc9052",
   "metadata": {},
   "outputs": [],
   "source": []
  },
  {
   "cell_type": "code",
   "execution_count": null,
   "id": "8cd03bff",
   "metadata": {},
   "outputs": [],
   "source": []
  }
 ],
 "metadata": {
  "kernelspec": {
   "display_name": "Python 3 (ipykernel)",
   "language": "python",
   "name": "python3"
  },
  "language_info": {
   "codemirror_mode": {
    "name": "ipython",
    "version": 3
   },
   "file_extension": ".py",
   "mimetype": "text/x-python",
   "name": "python",
   "nbconvert_exporter": "python",
   "pygments_lexer": "ipython3",
   "version": "3.9.6"
  }
 },
 "nbformat": 4,
 "nbformat_minor": 5
}
